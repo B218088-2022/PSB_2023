{
 "cells": [
  {
   "cell_type": "code",
   "execution_count": 3,
   "id": "99a0be68",
   "metadata": {},
   "outputs": [],
   "source": [
    "import numpy as np\n",
    "import matplotlib.pylab as plt"
   ]
  },
  {
   "cell_type": "code",
   "execution_count": 4,
   "id": "97d398ca",
   "metadata": {},
   "outputs": [
    {
     "name": "stdout",
     "output_type": "stream",
     "text": [
      "121.346\n",
      "123,456,789.000000\n"
     ]
    }
   ],
   "source": [
    "a = 121.3456789\n",
    "print(f\"{a:.6}\")\n",
    "b = 123456789\n",
    "print(f\"{b:,f}\")"
   ]
  },
  {
   "cell_type": "code",
   "execution_count": 5,
   "id": "4a84a541",
   "metadata": {},
   "outputs": [
    {
     "name": "stdout",
     "output_type": "stream",
     "text": [
      "[0.3 9.  4.3]\n"
     ]
    }
   ],
   "source": [
    "a = np.array([0.3,9,4.3])\n",
    "print(a)"
   ]
  },
  {
   "cell_type": "code",
   "execution_count": 6,
   "id": "29d919e9",
   "metadata": {},
   "outputs": [
    {
     "data": {
      "text/plain": [
       "array([ 0,  1,  2,  3,  4,  5,  6,  7,  8,  9, 10, 11, 12, 13, 14, 15, 16,\n",
       "       17, 18, 19])"
      ]
     },
     "execution_count": 6,
     "metadata": {},
     "output_type": "execute_result"
    }
   ],
   "source": [
    "a = np.arange(20)\n",
    "a"
   ]
  },
  {
   "cell_type": "code",
   "execution_count": 7,
   "id": "a3503858",
   "metadata": {},
   "outputs": [
    {
     "name": "stdout",
     "output_type": "stream",
     "text": [
      "[  0.  10.  20.  30.  40.  50.  60.  70.  80.  90. 100.]\n"
     ]
    }
   ],
   "source": [
    "a = np.linspace(0, 100, 11)\n",
    "print(a)"
   ]
  },
  {
   "cell_type": "markdown",
   "id": "92f05caa",
   "metadata": {},
   "source": [
    "<img src=\"https://zhaoty2077.github.io/images/photo_life_Yunnan_cutted_reduced.jpg\", width=260, weigth = 250>"
   ]
  },
  {
   "attachments": {},
   "cell_type": "markdown",
   "id": "1aa2c116",
   "metadata": {},
   "source": [
    "<img src=\"https://zhaoty2077.github.io/images/photo_life_Yunnan_cutted_reduced.jpg\">`"
   ]
  },
  {
   "cell_type": "markdown",
   "id": "fa1c833a",
   "metadata": {},
   "source": [
    "![photo](https://zhaoty2077.github.io/images/photo_life_Yunnan_cutted_reduced.jpg)"
   ]
  },
  {
   "cell_type": "markdown",
   "id": "06b479e4",
   "metadata": {},
   "source": [
    "### linspace和logspace的用法以及与arange函数的区别\n",
    "\n",
    "linspace和logspace等生成一系列数字的np函数用法都是function(y轴下限,y轴上限,数字数量)，不同的在于函数的不同，如logspace相当于是y=log10(x)的函数. 和arange不同的就是**第三个参数**，arange指定的是间隔大小，xxxspace函数指定的生成数量。如果不指定生成数量一般这些函数默认的都是50个。"
   ]
  },
  {
   "cell_type": "code",
   "execution_count": 37,
   "id": "0c251b3b",
   "metadata": {},
   "outputs": [
    {
     "data": {
      "text/plain": [
       "array([  10.        ,   16.68100537,   27.82559402,   46.41588834,\n",
       "         77.42636827,  129.1549665 ,  215.443469  ,  359.38136638,\n",
       "        599.48425032, 1000.        ])"
      ]
     },
     "execution_count": 37,
     "metadata": {},
     "output_type": "execute_result"
    }
   ],
   "source": [
    "a = np.logspace(1,3,10)\n",
    "a"
   ]
  },
  {
   "cell_type": "code",
   "execution_count": 45,
   "id": "e3e2c3e0",
   "metadata": {},
   "outputs": [
    {
     "data": {
      "text/plain": [
       "array([1.e+01, 1.e+02, 1.e+03, 1.e+04, 1.e+05, 1.e+06, 1.e+07, 1.e+08,\n",
       "       1.e+09, 1.e+10, 1.e+11, 1.e+12, 1.e+13, 1.e+14, 1.e+15, 1.e+16,\n",
       "       1.e+17, 1.e+18, 1.e+19, 1.e+20, 1.e+21, 1.e+22, 1.e+23, 1.e+24,\n",
       "       1.e+25, 1.e+26, 1.e+27, 1.e+28, 1.e+29, 1.e+30, 1.e+31, 1.e+32,\n",
       "       1.e+33, 1.e+34, 1.e+35, 1.e+36, 1.e+37, 1.e+38, 1.e+39, 1.e+40,\n",
       "       1.e+41, 1.e+42, 1.e+43, 1.e+44, 1.e+45, 1.e+46, 1.e+47, 1.e+48,\n",
       "       1.e+49, 1.e+50])"
      ]
     },
     "execution_count": 45,
     "metadata": {},
     "output_type": "execute_result"
    }
   ],
   "source": [
    "y = np.linspace(1,50)\n",
    "y\n",
    "z = np.logspace(1,50)\n",
    "z"
   ]
  },
  {
   "cell_type": "code",
   "execution_count": 53,
   "id": "60abf4af",
   "metadata": {},
   "outputs": [
    {
     "name": "stdout",
     "output_type": "stream",
     "text": [
      "[1. 1. 1. 1.]\n",
      "[1. 1. 1. 1.]\n"
     ]
    },
    {
     "data": {
      "text/plain": [
       "(4,)"
      ]
     },
     "execution_count": 53,
     "metadata": {},
     "output_type": "execute_result"
    }
   ],
   "source": [
    "a  =np.ones(4)\n",
    "b = np.empty(4)\n",
    "print(a)\n",
    "print(b)\n",
    "a.shape"
   ]
  },
  {
   "cell_type": "code",
   "execution_count": 64,
   "id": "e35ef3d0",
   "metadata": {
    "scrolled": true
   },
   "outputs": [
    {
     "data": {
      "text/plain": [
       "array([[[1, 2],\n",
       "        [3, 4],\n",
       "        [5, 6]],\n",
       "\n",
       "       [[1, 2],\n",
       "        [3, 4],\n",
       "        [5, 6]]])"
      ]
     },
     "execution_count": 64,
     "metadata": {},
     "output_type": "execute_result"
    }
   ],
   "source": [
    "a = np.array([[[1,2],[3,4],[5,6]],[[1,2],[3,4],[5,6]]])\n",
    "a"
   ]
  },
  {
   "cell_type": "markdown",
   "id": "b6d014e8",
   "metadata": {},
   "source": [
    "转换shape的时候是三个维度相乘等于总共的数的数量"
   ]
  },
  {
   "cell_type": "code",
   "execution_count": 79,
   "id": "5afeda2b",
   "metadata": {},
   "outputs": [
    {
     "name": "stdout",
     "output_type": "stream",
     "text": [
      "[[[1 2]\n",
      "  [3 4]]\n",
      "\n",
      " [[5 6]\n",
      "  [7 8]]]\n"
     ]
    },
    {
     "data": {
      "text/plain": [
       "array([[[[1]]]])"
      ]
     },
     "execution_count": 79,
     "metadata": {},
     "output_type": "execute_result"
    }
   ],
   "source": [
    "a1 = np.array([1,2,3,4,5,6,7,8])\n",
    "a1.shape = 2,2,2\n",
    "print(a1)\n",
    "c = np.array([1])\n",
    "c.shape = 1,1,1,1\n",
    "c"
   ]
  },
  {
   "cell_type": "code",
   "execution_count": 75,
   "id": "04a92702",
   "metadata": {},
   "outputs": [
    {
     "data": {
      "text/plain": [
       "array([[[[1., 1.],\n",
       "         [1., 1.]],\n",
       "\n",
       "        [[1., 1.],\n",
       "         [1., 1.]]],\n",
       "\n",
       "\n",
       "       [[[1., 1.],\n",
       "         [1., 1.]],\n",
       "\n",
       "        [[1., 1.],\n",
       "         [1., 1.]]]])"
      ]
     },
     "execution_count": 75,
     "metadata": {},
     "output_type": "execute_result"
    }
   ],
   "source": [
    "np.ones((2,2,2,2))"
   ]
  },
  {
   "cell_type": "code",
   "execution_count": 84,
   "id": "3ec0c2b7",
   "metadata": {},
   "outputs": [
    {
     "name": "stdout",
     "output_type": "stream",
     "text": [
      "[  1.   17.5  34.   50.5  67.   83.5 100. ]\n"
     ]
    },
    {
     "data": {
      "text/plain": [
       "array([ 0.84147098, -0.97562601,  0.52908269,  0.23237376, -0.85551998,\n",
       "        0.96945567, -0.50636564])"
      ]
     },
     "execution_count": 84,
     "metadata": {},
     "output_type": "execute_result"
    }
   ],
   "source": [
    "x = np.linspace(1,100,7)\n",
    "print(x)\n",
    "np.sin(x)"
   ]
  },
  {
   "cell_type": "code",
   "execution_count": 24,
   "id": "3f4e902c",
   "metadata": {},
   "outputs": [
    {
     "data": {
      "image/png": "[encoded data removed]",
      "text/plain": [
       "<Figure size 640x480 with 1 Axes>"
      ]
     },
     "metadata": {},
     "output_type": "display_data"
    }
   ],
   "source": [
    "import matplotlib.pyplot as plt\n",
    "%matplotlib inline\n",
    "\n",
    "x = np.linspace(1,1.0e4, 100)\n",
    "plt.figure()\n",
    "plt.plot(x,np.sin(x), 'r.-', label = 'sine')\n",
    "plt.plot(x, np.cos(x), 'o' , label = 'cosine')\n",
    "plt.title('sine and cosine')\n",
    "plt.xlabel('x')\n",
    "plt.ylabel('y')\n",
    "plt.legend(loc = 'upper left')\n",
    "plt.show()"
   ]
  }
 ],
 "metadata": {
  "kernelspec": {
   "display_name": "Python 3 (ipykernel)",
   "language": "python",
   "name": "python3"
  },
  "language_info": {
   "codemirror_mode": {
    "name": "ipython",
    "version": 3
   },
   "file_extension": ".py",
   "mimetype": "text/x-python",
   "name": "python",
   "nbconvert_exporter": "python",
   "pygments_lexer": "ipython3",
   "version": "3.10.9"
  },
  "vscode": {
   "interpreter": {
    "hash": "e46f96ec14132dfb952ca2d7fe90580e6a9f99d52bff85b68a825927154222d8"
   }
  }
 },
 "nbformat": 4,
 "nbformat_minor": 5
}
