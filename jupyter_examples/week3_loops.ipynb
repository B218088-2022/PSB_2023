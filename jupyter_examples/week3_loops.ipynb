{
 "cells": [
  {
   "cell_type": "markdown",
   "metadata": {},
   "source": [
    "## Slicing"
   ]
  },
  {
   "cell_type": "markdown",
   "metadata": {},
   "source": [
    "You can extract rows and columns from a two dimensional array, called <tt>a</tt> say, using, for example,\n",
    "\n",
    "    a[:,0]\n",
    " \n",
    "for the first column and\n",
    "\n",
    "    a[0,:]\n",
    " \n",
    "for the first row (similarly <tt>a[-1,:]</tt> is the last row)."
   ]
  },
  {
   "cell_type": "markdown",
   "metadata": {},
   "source": [
    "<em>Exercise:</em> Use <tt>d= np.random.rand(10,10)</tt> to create a two dimensional array of data. Plot row 3 versus column 4; plot column 2 versus the second to last row; plot the first 5 data points of row 6 versus the last 5 data points of row 7."
   ]
  },
  {
   "cell_type": "markdown",
   "metadata": {},
   "source": [
    "## Loops"
   ]
  },
  {
   "cell_type": "markdown",
   "metadata": {},
   "source": [
    "We need <tt>numpy</tt> and <tt>matplotlib</tt> (the <tt>inline</tt> option ensures that any figures generated are generated within the Juptyer notebook rather than as separate windows):"
   ]
  },
  {
   "cell_type": "code",
   "execution_count": 2,
   "metadata": {},
   "outputs": [],
   "source": [
    "import numpy as np\n",
    "import matplotlib.pylab as plt\n",
    "%matplotlib inline"
   ]
  },
  {
   "cell_type": "markdown",
   "metadata": {},
   "source": [
    "We can use <tt>for</tt> loops to repeat calculations. For example, here are the volumes of a bacterium, a yeast, and a human cell."
   ]
  },
  {
   "cell_type": "code",
   "execution_count": 2,
   "metadata": {},
   "outputs": [],
   "source": [
    "vol= np.array([1.0e-15, 60.0e-15, 10.0e4*1.0e-15])"
   ]
  },
  {
   "cell_type": "markdown",
   "metadata": {},
   "source": [
    "To calculate the concentration of 1 molecule for each case, we can use a loop. Notice the values that <tt>v</tt> takes for each repeat of the loop (compare with <tt>vol</tt>)."
   ]
  },
  {
   "cell_type": "code",
   "execution_count": 3,
   "metadata": {},
   "outputs": [
    {
     "name": "stdout",
     "output_type": "stream",
     "text": [
      "volume is 1e-15 litres\n",
      "concentration is 1.6666666666666665e-09\n",
      "volume is 6e-14 litres\n",
      "concentration is 2.777777777777778e-11\n",
      "volume is 1e-10 litres\n",
      "concentration is 1.6666666666666667e-14\n"
     ]
    }
   ],
   "source": [
    "for v in vol:\n",
    "    print('volume is', v, 'litres')\n",
    "    c= 1/6.0e23/v\n",
    "    print('concentration is', c)"
   ]
  },
  {
   "cell_type": "markdown",
   "metadata": {},
   "source": [
    "<i>Exercise</i>: change this loop to calculate the concentration of 100 molecules and to print the concentration to 3 decimal places. The volume of a tumor cell is 1500 $\\mu m^3$. Add this cell to your loop so that the concentration of 100 molecules is calcuated for tumour cells too."
   ]
  },
  {
   "cell_type": "markdown",
   "metadata": {},
   "source": [
    "We can use loops to repeat tasks. As an illustrative example, consider the 10 times table. Again, notice the values that <tt>i</tt> takes for each repeat of the loop."
   ]
  },
  {
   "cell_type": "code",
   "execution_count": 4,
   "metadata": {},
   "outputs": [
    {
     "name": "stdout",
     "output_type": "stream",
     "text": [
      "10 x 1 = 10\n",
      "10 x 2 = 20\n",
      "10 x 3 = 30\n",
      "10 x 4 = 40\n",
      "10 x 5 = 50\n",
      "10 x 6 = 60\n",
      "10 x 7 = 70\n",
      "10 x 8 = 80\n",
      "10 x 9 = 90\n",
      "10 x 10 = 100\n",
      "10 x 11 = 110\n",
      "10 x 12 = 120\n"
     ]
    }
   ],
   "source": [
    "for i in np.arange(1,13):\n",
    "    print('10 x', i, '=', 10*i)"
   ]
  },
  {
   "cell_type": "markdown",
   "metadata": {},
   "source": [
    "<i>Exercise</i>: Change the loop so that <tt>i</tt> starts from 0 and goes up in twos to 20, i.e., <tt>i</tt> is first 0, then 2, then 4, etc."
   ]
  },
  {
   "cell_type": "markdown",
   "metadata": {},
   "source": [
    "You can use loops too to add plots to a figure. Here we plot <tt>sin(x)</tt> raised to different powers. Make sure you understand what <tt>y</tt> is through each repeat of the loop."
   ]
  },
  {
   "cell_type": "code",
   "execution_count": 8,
   "metadata": {},
   "outputs": [
    {
     "data": {
      "image/png": "[encoded data removed]",
      "text/plain": [
       "<Figure size 432x288 with 1 Axes>"
      ]
     },
     "metadata": {
      "needs_background": "light"
     },
     "output_type": "display_data"
    }
   ],
   "source": [
    "plt.figure()\n",
    "x= np.linspace(0, 10, 50)\n",
    "for i in np.arange(3):   \n",
    "    y= np.sin(x)**i\n",
    "    plt.plot(x, y)\n",
    "plt.show()"
   ]
  },
  {
   "cell_type": "markdown",
   "metadata": {},
   "source": [
    "<em>Exercise</em>: Add a legend to the figure so that each line is labelled by the corresponding power to which <tt>sin(x)</tt> is raised."
   ]
  },
  {
   "attachments": {},
   "cell_type": "markdown",
   "metadata": {},
   "source": [
    "## Exercises\n",
    "\n",
    "1. Using a <tt>while</tt> loop to make a table where the number of molecules (from 1 to 10) is printed side-by-side with their concentration in bacteria.\n",
    "<br>\n",
    "\n",
    "2. With the dataset <tt>data</tt> show below \n",
    "\n",
    "    <tt>data= ['GAL1', 10, 'GAL2', 0.1, 'GAL3', 0.05, 'GAL7', 0.4]</tt>\n",
    "    \n",
    "    write a <tt>for</tt> loop that prints each gene beside its corresponding value.\n",
    "<br>\n",
    "\n",
    "3. Use a <tt>for</tt> loop to sum <tt>1/i</tt> for all the numbers <tt>i</tt> ranging from 1 to 100.\n",
    "<br>"
   ]
  },
  {
   "cell_type": "code",
   "execution_count": null,
   "metadata": {},
   "outputs": [],
   "source": [
    "n= 1\n",
    "while n < 11:\n",
    "    print('no of molecules= {:2d} \\t conc (nM)= {:.2f}'.format(n, n/6.0e23/1.0e-15/1.0e-9))\n",
    "    n += 1"
   ]
  },
  {
   "cell_type": "code",
   "execution_count": null,
   "metadata": {},
   "outputs": [],
   "source": [
    "n = 1\n",
    "while True:\n",
    "    print(f\"No of molecule = {n:2d}, the concentration (nM) = {n/6.0e23/1.0e-15/1.0e-9:.2f}\")\n",
    "    n += 1\n",
    "    if n == 11:\n",
    "        break"
   ]
  },
  {
   "cell_type": "code",
   "execution_count": 4,
   "metadata": {},
   "outputs": [
    {
     "name": "stdout",
     "output_type": "stream",
     "text": [
      "GAL1 10\n",
      "GAL2 0.1\n",
      "GAL3 0.05\n",
      "GAL7 0.4\n"
     ]
    }
   ],
   "source": [
    "data= ['GAL1', 10, 'GAL2', 0.1, 'GAL3', 0.05, 'GAL7', 0.4]\n",
    "for i in np.arange(0,8,2):\n",
    "    print(data[i], data[i+1])"
   ]
  },
  {
   "cell_type": "code",
   "execution_count": null,
   "metadata": {},
   "outputs": [],
   "source": [
    "data= ['GAL1', 10, 'GAL2', 0.1, 'GAL3', 0.05, 'GAL7', 0.4]\n",
    "#or using the zip command\n",
    "for gene, value in zip(data[::2], data[1::2]):\n",
    "    print(gene, value)"
   ]
  },
  {
   "cell_type": "code",
   "execution_count": 10,
   "metadata": {},
   "outputs": [
    {
     "data": {
      "text/plain": [
       "5.187377517639621"
      ]
     },
     "execution_count": 10,
     "metadata": {},
     "output_type": "execute_result"
    }
   ],
   "source": [
    "#arr = np.array(np.arange(1,101))\n",
    "#sum(1/arr)\n",
    "sum(1/np.array(np.arange(1,101)))"
   ]
  },
  {
   "cell_type": "code",
   "execution_count": 9,
   "metadata": {},
   "outputs": [
    {
     "name": "stdout",
     "output_type": "stream",
     "text": [
      "5.187377517639621\n"
     ]
    }
   ],
   "source": [
    "print(np.sum([1/i for i in range(1, 101)]))"
   ]
  },
  {
   "attachments": {},
   "cell_type": "markdown",
   "metadata": {},
   "source": [
    "4. A Fourier series is a way of representing a periodic function as a sum of sine waves. Consider\n",
    "\n",
    "    $$y= \\sum_{n=1}^{\\infty} \\frac{2}{n} (-1)^n \\textrm{sin}(n x)$$\n",
    "    \n",
    "    Define \n",
    "\n",
    "    <tt>x= np.linspace(-np.pi, np.pi, 100)</tt>\n",
    "    \n",
    "    and write a loop that calculates <tt>y</tt> as the sum of first 10 terms in this sum. The command <tt>+=</tt> may be useful. For example, \n",
    "\n",
    "    <tt>z += 2</tt>\n",
    "    \n",
    "    adds <tt>2</tt> to the current value of <tt>z</tt> and makes that sum the new value of <tt>z</tt>. Try with an example to confirm you understand.\n",
    "    \n",
    "    Plot <tt>y</tt> versus <tt>x</tt>. \n",
    "    \n",
    "    How many terms do you need to include in the sum before your <tt>y</tt> function becomes a smooth saw-tooth wave?"
   ]
  },
  {
   "cell_type": "code",
   "execution_count": null,
   "metadata": {},
   "outputs": [],
   "source": [
    "x = np.linspace(-np.pi, np.pi, 100)\n",
    "x"
   ]
  },
  {
   "cell_type": "code",
   "execution_count": 18,
   "metadata": {},
   "outputs": [
    {
     "data": {
      "image/png": "[encoded data removed]",
      "text/plain": [
       "<Figure size 640x480 with 1 Axes>"
      ]
     },
     "metadata": {},
     "output_type": "display_data"
    }
   ],
   "source": [
    "x = np.linspace(-np.pi, np.pi, 100)\n",
    "y = 0\n",
    "for n in np.arange(1,11):\n",
    "    y += 2/n * (-1)**n * np.sin(n * x)\n",
    "plt.figure()\n",
    "plt.plot(x,y)\n",
    "plt.show()"
   ]
  }
 ],
 "metadata": {
  "kernelspec": {
   "display_name": "sys_bio",
   "language": "python",
   "name": "python3"
  },
  "language_info": {
   "codemirror_mode": {
    "name": "ipython",
    "version": 3
   },
   "file_extension": ".py",
   "mimetype": "text/x-python",
   "name": "python",
   "nbconvert_exporter": "python",
   "pygments_lexer": "ipython3",
   "version": "3.10.9"
  },
  "vscode": {
   "interpreter": {
    "hash": "e46f96ec14132dfb952ca2d7fe90580e6a9f99d52bff85b68a825927154222d8"
   }
  }
 },
 "nbformat": 4,
 "nbformat_minor": 2
}
