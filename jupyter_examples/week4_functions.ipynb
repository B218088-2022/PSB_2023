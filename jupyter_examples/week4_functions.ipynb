{
 "cells": [
  {
   "cell_type": "markdown",
   "metadata": {},
   "source": [
    "## Functions and branching"
   ]
  },
  {
   "cell_type": "markdown",
   "metadata": {},
   "source": [
    "Tasks that you need solved often can be made into functions. \n",
    "\n",
    "Consider again calculating the concentration of molecules. Here is a function that calculates the concentration for bacteria. Given an input value <tt>n</tt>, it returns the corresponding concentration."
   ]
  },
  {
   "cell_type": "code",
   "execution_count": 12,
   "metadata": {},
   "outputs": [],
   "source": [
    "def conc(n):\n",
    "    a= 6.0e23\n",
    "    v= 1.0e-15\n",
    "    return n/a/v"
   ]
  },
  {
   "cell_type": "code",
   "execution_count": 17,
   "metadata": {},
   "outputs": [
    {
     "name": "stdout",
     "output_type": "stream",
     "text": [
      "n= 1 has concentration 1.6666666666666665e-09 M\n",
      "n= 100 has concentration 1.6666666666666665e-07 M\n"
     ]
    }
   ],
   "source": [
    "c1= conc(1)\n",
    "print('n= 1 has concentration', c1, 'M')\n",
    "print('n= 100 has concentration', conc(100), 'M')"
   ]
  },
  {
   "cell_type": "markdown",
   "metadata": {},
   "source": [
    "<em>Exercise</em>: change the function to return the concentration in micomolar."
   ]
  },
  {
   "cell_type": "markdown",
   "metadata": {},
   "source": [
    "We can make the function take two inputs so that we can also specify the volume of the cell:"
   ]
  },
  {
   "cell_type": "code",
   "execution_count": 18,
   "metadata": {},
   "outputs": [],
   "source": [
    "def conc(n, v):\n",
    "    a= 6.0e23\n",
    "    return n/a/v"
   ]
  },
  {
   "cell_type": "code",
   "execution_count": 22,
   "metadata": {},
   "outputs": [
    {
     "name": "stdout",
     "output_type": "stream",
     "text": [
      "for bacteria: 1.6666666666666665e-09\n"
     ]
    }
   ],
   "source": [
    "print('for bacteria:', conc(1, 1.0e-15))"
   ]
  },
  {
   "cell_type": "code",
   "execution_count": 23,
   "metadata": {},
   "outputs": [
    {
     "name": "stdout",
     "output_type": "stream",
     "text": [
      "for mammalian cells: 1.6666666666666665e-13\n"
     ]
    }
   ],
   "source": [
    "print('for mammalian cells:', conc(1, 1.0e4*1.0e-15))"
   ]
  },
  {
   "cell_type": "markdown",
   "metadata": {},
   "source": [
    "You may only occasionally want to change the volume and so you can define a default value:"
   ]
  },
  {
   "cell_type": "code",
   "execution_count": 24,
   "metadata": {},
   "outputs": [],
   "source": [
    "def conc(n, v= 1.0e-15):\n",
    "    a= 6.0e23\n",
    "    return n/a/v"
   ]
  },
  {
   "cell_type": "code",
   "execution_count": 27,
   "metadata": {},
   "outputs": [
    {
     "name": "stdout",
     "output_type": "stream",
     "text": [
      "for bacteria (default): 1.6666666666666665e-09\n"
     ]
    }
   ],
   "source": [
    "print('for bacteria (default):', conc(1))"
   ]
  },
  {
   "cell_type": "code",
   "execution_count": 26,
   "metadata": {},
   "outputs": [
    {
     "name": "stdout",
     "output_type": "stream",
     "text": [
      "for mammalian cells: 1.6666666666666665e-13\n"
     ]
    }
   ],
   "source": [
    "print('for mammalian cells:', conc(1, 1.0e4*1.0e-15))"
   ]
  },
  {
   "cell_type": "markdown",
   "metadata": {},
   "source": [
    "<em>Exercise:</em> Write a function to convert volumes from $m^3$ to litres."
   ]
  },
  {
   "cell_type": "markdown",
   "metadata": {},
   "source": [
    "Functions are often useful for carrying out tests. Consider a dataset where a value above 1 but less than 10 is \"dangerous\" and a value higher than 10 is \"very dangerous\". \n",
    "\n",
    "We can write a function to return a warning for a particular data set. \n",
    "\n",
    "First, let's consider only \"very dangerous\" data."
   ]
  },
  {
   "cell_type": "code",
   "execution_count": 29,
   "metadata": {},
   "outputs": [],
   "source": [
    "def checkdata(data):\n",
    "    for d in data:\n",
    "        if d > 10:\n",
    "            print('very dangerous')"
   ]
  },
  {
   "cell_type": "code",
   "execution_count": 30,
   "metadata": {},
   "outputs": [],
   "source": [
    "checkdata(np.array([0.1, 0.1, 1.4, 0.4, 8.2]))"
   ]
  },
  {
   "cell_type": "code",
   "execution_count": 31,
   "metadata": {},
   "outputs": [
    {
     "name": "stdout",
     "output_type": "stream",
     "text": [
      "very dangerous\n"
     ]
    }
   ],
   "source": [
    "checkdata(np.array([0.1, 0.1, 10.4, 0.4, 8.2]))"
   ]
  },
  {
   "cell_type": "markdown",
   "metadata": {},
   "source": [
    "Now let's add the check for \"dangerous\" data:"
   ]
  },
  {
   "cell_type": "code",
   "execution_count": 32,
   "metadata": {},
   "outputs": [],
   "source": [
    "def checkdata(data):\n",
    "    for d in data:\n",
    "        if d > 1 and d < 10:\n",
    "            print('dangerous')\n",
    "        elif d > 10:\n",
    "            print('very dangerous')"
   ]
  },
  {
   "cell_type": "code",
   "execution_count": 33,
   "metadata": {},
   "outputs": [
    {
     "name": "stdout",
     "output_type": "stream",
     "text": [
      "dangerous\n",
      "dangerous\n"
     ]
    }
   ],
   "source": [
    "checkdata(np.array([0.1, 0.1, 1.4, 0.4, 8.2]))"
   ]
  },
  {
   "cell_type": "code",
   "execution_count": 34,
   "metadata": {},
   "outputs": [
    {
     "name": "stdout",
     "output_type": "stream",
     "text": [
      "very dangerous\n",
      "dangerous\n"
     ]
    }
   ],
   "source": [
    "checkdata(np.array([0.1, 0.1, 10.4, 0.4, 8.2]))"
   ]
  },
  {
   "cell_type": "markdown",
   "metadata": {},
   "source": [
    "<em>Exercise</em>: Change the function so it prints as well the value of \"dangerous\" and \"very dangerous\" data."
   ]
  },
  {
   "cell_type": "markdown",
   "metadata": {},
   "source": [
    "<em>Exercise</em>: For data that is neither \"dangerous\" nor \"very dangerous\", make the function return \"benign\"."
   ]
  },
  {
   "cell_type": "markdown",
   "metadata": {},
   "source": [
    "## Exercise\n",
    "\n",
    "1. A random number with a Poisson distribution should have a variance that equals its mean. Use\n",
    "\n",
    "    <tt>d= np.random.poisson(5, 12)</tt>\n",
    "    \n",
    "    to generate 12 samples for a Poisson random variable with mean 5.\n",
    "    \n",
    "    Write a function that takes <tt>d</tt> and returns the ratio of the variance to the mean. How many samples do you need before this reaches one? \n",
    "    \n",
    "    Write a loop to find the average variance divided by mean for 10 different samples of <tt>d</tt> (calling <tt>random.poisson</tt> ten times)."
   ]
  },
  {
   "cell_type": "code",
   "execution_count": null,
   "metadata": {},
   "outputs": [],
   "source": []
  }
 ],
 "metadata": {
  "kernelspec": {
   "display_name": "Python 3",
   "language": "python",
   "name": "python3"
  },
  "language_info": {
   "codemirror_mode": {
    "name": "ipython",
    "version": 3
   },
   "file_extension": ".py",
   "mimetype": "text/x-python",
   "name": "python",
   "nbconvert_exporter": "python",
   "pygments_lexer": "ipython3",
   "version": "3.7.9"
  }
 },
 "nbformat": 4,
 "nbformat_minor": 2
}
