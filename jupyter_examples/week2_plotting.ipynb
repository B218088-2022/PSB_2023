{
 "cells": [
  {
   "cell_type": "markdown",
   "metadata": {},
   "source": [
    "## Manipulating and plotting data"
   ]
  },
  {
   "cell_type": "markdown",
   "metadata": {},
   "source": [
    "We need <tt>numpy</tt> and <tt>matplotlib</tt> (the <tt>inline</tt> option ensures that any figures generated are generated within the Juptyer notebook rather than as separate windows):"
   ]
  },
  {
   "cell_type": "code",
   "execution_count": 1,
   "metadata": {},
   "outputs": [],
   "source": [
    "import numpy as np\n",
    "import matplotlib.pylab as plt\n",
    "%matplotlib inline"
   ]
  },
  {
   "cell_type": "markdown",
   "metadata": {},
   "source": [
    "Here is some time-series data:"
   ]
  },
  {
   "cell_type": "code",
   "execution_count": 2,
   "metadata": {},
   "outputs": [],
   "source": [
    "t= np.array([0, 3.4, 6, 10.9, 20.1])\n",
    "d= np.array([0, -2.3, -0.1, 3.3, 30.1])"
   ]
  },
  {
   "cell_type": "markdown",
   "metadata": {},
   "source": [
    "which we can plot."
   ]
  },
  {
   "cell_type": "code",
   "execution_count": 6,
   "metadata": {},
   "outputs": [
    {
     "data": {
      "image/png": "[encoded data removed]",
      "text/plain": [
       "<Figure size 640x480 with 1 Axes>"
      ]
     },
     "metadata": {},
     "output_type": "display_data"
    }
   ],
   "source": [
    "plt.figure()\n",
    "plt.plot(t, d,'o')\n",
    "plt.show()"
   ]
  },
  {
   "cell_type": "code",
   "execution_count": 7,
   "metadata": {},
   "outputs": [
    {
     "data": {
      "image/png": "[encoded data removed]",
      "text/plain": [
       "<Figure size 640x480 with 1 Axes>"
      ]
     },
     "metadata": {},
     "output_type": "display_data"
    }
   ],
   "source": [
    "plt.figure()\n",
    "plt.plot(t, d,'o')\n",
    "plt.title(\"this is a title\")\n",
    "plt.show()"
   ]
  },
  {
   "cell_type": "markdown",
   "metadata": {},
   "source": [
    "<i>Exercise</i>: replot the figure with labels for the x- and y-axis and with the points joined by lines by changing the <tt>'o'</tt> option."
   ]
  },
  {
   "cell_type": "markdown",
   "metadata": {},
   "source": [
    "<em>Exercise:</em> Plot the absolute value of the data versus time. Give the figure a title."
   ]
  },
  {
   "cell_type": "markdown",
   "metadata": {},
   "source": [
    "<i>Exercise:</i> Use <tt>np.mean</tt> to find the mean over all time points and then plot the square of the deviation of the data at each time point from the mean over all time points."
   ]
  },
  {
   "cell_type": "markdown",
   "metadata": {},
   "source": [
    "You can use <tt>linspace</tt> and <tt>logspace</tt> to create arrays:"
   ]
  },
  {
   "cell_type": "code",
   "execution_count": 17,
   "metadata": {},
   "outputs": [
    {
     "name": "stdout",
     "output_type": "stream",
     "text": [
      "33\n",
      "[  0.      3.125   6.25    9.375  12.5    15.625  18.75   21.875  25.\n",
      "  28.125  31.25   34.375  37.5    40.625  43.75   46.875  50.     53.125\n",
      "  56.25   59.375  62.5    65.625  68.75   71.875  75.     78.125  81.25\n",
      "  84.375  87.5    90.625  93.75   96.875 100.   ]\n"
     ]
    }
   ],
   "source": [
    "lint= np.linspace(0, 100, 33)\n",
    "print(len(lint))\n",
    "print(lint)"
   ]
  },
  {
   "cell_type": "markdown",
   "metadata": {},
   "source": [
    "<i>Exercise</i>: Create an array that starts from 40 goes to 100 and has 6 points linearly spaced in between."
   ]
  },
  {
   "cell_type": "code",
   "execution_count": 16,
   "metadata": {},
   "outputs": [
    {
     "name": "stdout",
     "output_type": "stream",
     "text": [
      "100\n",
      "[   1.            1.07226722    1.149757      1.23284674    1.32194115\n",
      "    1.41747416    1.51991108    1.62975083    1.7475284     1.87381742\n",
      "    2.009233      2.15443469    2.3101297     2.47707636    2.65608778\n",
      "    2.84803587    3.05385551    3.27454916    3.51119173    3.76493581\n",
      "    4.03701726    4.32876128    4.64158883    4.97702356    5.33669923\n",
      "    5.72236766    6.13590727    6.57933225    7.05480231    7.56463328\n",
      "    8.11130831    8.69749003    9.32603347   10.           10.72267222\n",
      "   11.49756995   12.32846739   13.21941148   14.17474163   15.19911083\n",
      "   16.29750835   17.475284     18.73817423   20.09233003   21.5443469\n",
      "   23.101297     24.77076356   26.56087783   28.48035868   30.53855509\n",
      "   32.74549163   35.11191734   37.64935807   40.37017259   43.28761281\n",
      "   46.41588834   49.77023564   53.36699231   57.22367659   61.35907273\n",
      "   65.79332247   70.54802311   75.64633276   81.11308308   86.97490026\n",
      "   93.26033469  100.          107.2267222   114.97569954  123.28467394\n",
      "  132.19411485  141.74741629  151.9911083   162.97508346  174.75284\n",
      "  187.38174229  200.92330026  215.443469    231.01297001  247.7076356\n",
      "  265.60877829  284.80358684  305.38555088  327.45491629  351.11917342\n",
      "  376.49358068  403.70172586  432.87612811  464.15888336  497.70235643\n",
      "  533.66992312  572.23676594  613.59072734  657.93322466  705.48023107\n",
      "  756.46332755  811.13083079  869.74900262  932.60334688 1000.        ]\n"
     ]
    }
   ],
   "source": [
    "logt= np.logspace(0, 3, 100)\n",
    "print(len(logt))\n",
    "print(logt)"
   ]
  },
  {
   "cell_type": "markdown",
   "metadata": {},
   "source": [
    "<i>Exercise</i>: Create an array <tt>x</tt> that goes from $10^{-2}$ to $10^4$ with 90 points logarithmically spaced in between. Plot the logistic function \n",
    "$$ \\frac{1}{1 + \\textrm{e}^{-x}} $$\n",
    "\n",
    "at these points and choose a suitable <tt>xscale</tt> to display the results."
   ]
  },
  {
   "cell_type": "markdown",
   "metadata": {},
   "source": [
    "## Exercises"
   ]
  },
  {
   "cell_type": "markdown",
   "metadata": {},
   "source": [
    "1. Plot the function for exponential decay\n",
    "\n",
    "    $$ n \\textrm{e}^{-\\lambda t} $$\n",
    "    \n",
    "    when $n= 100$ molecules and $\\lambda= 0.34$ and $t$ goes from 0 to 40 with 100 time points.\n",
    "    \n",
    "    Use <tt>yscale</tt> to change the scale of the y-axis to be logarithmic. What <tt>yscale</tt> command changes it back again?\n",
    "<br>\n",
    "    \n",
    "2. Plot in the same figure sin(x) and sin2(x) for x between 0 and 10. Add a legend and a title to your figure.\n",
    "<br>\n",
    "    \n",
    "3. Plot the normal distribution\n",
    "\n",
    "    $$\\frac{\\textrm{e}^\\frac{-(x - m)^2}{2 \\sigma^2}}{\\sqrt{2\\pi} \\sigma}$$\n",
    "    \n",
    "    for $\\sigma= 2$ and $m= 0.1$ for a range of $x$ that illustrates its behaviour.\n",
    "<br>\n",
    "    \n",
    "4. Plot the fraction of activated protein predicted by the Monod-Wyman-Changeux model (use the equation in the notes) for n=1, 2, 4, and 8. Use subplot, and plot n=1 and n=2 on one subplot and n=4 and n=8 on the other. Add legends to each subplot and label the axes."
   ]
  },
  {
   "cell_type": "code",
   "execution_count": null,
   "metadata": {},
   "outputs": [],
   "source": []
  }
 ],
 "metadata": {
  "kernelspec": {
   "display_name": "sys_bio",
   "language": "python",
   "name": "python3"
  },
  "language_info": {
   "codemirror_mode": {
    "name": "ipython",
    "version": 3
   },
   "file_extension": ".py",
   "mimetype": "text/x-python",
   "name": "python",
   "nbconvert_exporter": "python",
   "pygments_lexer": "ipython3",
   "version": "3.10.9"
  },
  "vscode": {
   "interpreter": {
    "hash": "e46f96ec14132dfb952ca2d7fe90580e6a9f99d52bff85b68a825927154222d8"
   }
  }
 },
 "nbformat": 4,
 "nbformat_minor": 2
}
