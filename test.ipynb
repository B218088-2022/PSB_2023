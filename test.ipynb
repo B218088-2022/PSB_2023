{
 "cells": [
  {
   "cell_type": "code",
   "execution_count": null,
   "metadata": {},
   "outputs": [],
   "source": []
  }
 ],
 "metadata": {
  "kernelspec": {
   "display_name": "sys_bio",
   "language": "python",
   "name": "python3"
  },
  "language_info": {
   "name": "python",
   "version": "3.10.9"
  },
  "orig_nbformat": 4,
  "vscode": {
   "interpreter": {
    "hash": "e46f96ec14132dfb952ca2d7fe90580e6a9f99d52bff85b68a825927154222d8"
   }
  }
 },
 "nbformat": 4,
 "nbformat_minor": 2
}
