{
  "cells": [
    {
      "cell_type": "code",
      "execution_count": null,
      "metadata": {
        "collapsed": false
      },
      "outputs": [],
      "source": [
        "%matplotlib inline"
      ]
    },
    {
      "cell_type": "markdown",
      "metadata": {},
      "source": [
        "\n",
        "# Table Demo\n",
        "\n",
        "Demo of table function to display a table within a plot.\n"
      ]
    },
    {
      "cell_type": "code",
      "execution_count": 11,
      "metadata": {
        "collapsed": false
      },
      "outputs": [
        {
          "data": {
            "image/png": "[encoded data removed]",
            "text/plain": [
              "<Figure size 640x480 with 1 Axes>"
            ]
          },
          "metadata": {},
          "output_type": "display_data"
        }
      ],
      "source": [
        "import numpy as np\n",
        "import matplotlib.pyplot as plt\n",
        "\n",
        "\n",
        "data = [[ 66386, 174296,  75131, 577908,  32015],\n",
        "        [ 58230, 381139,  78045,  99308, 160454],\n",
        "        [ 89135,  80552, 152558, 497981, 603535],\n",
        "        [ 78415,  81858, 150656, 193263,  69638],\n",
        "        [139361, 331509, 343164, 781380,  52269]]\n",
        "\n",
        "columns = ('Freeze', 'Wind', 'Flood', 'Quake', 'Hail')\n",
        "rows = ['%d year' % x for x in (100, 50, 20, 10, 5)]\n",
        "\n",
        "values = np.arange(0, 2500, 500)\n",
        "value_increment = 1000\n",
        "\n",
        "# Get some pastel shades for the colors\n",
        "colors = plt.cm.BuPu(np.linspace(0, 0.5, len(rows)))\n",
        "n_rows = len(data)\n",
        "\n",
        "index = np.arange(len(columns)) + 0.3\n",
        "bar_width = 0.4\n",
        "\n",
        "# Initialize the vertical-offset for the stacked bar chart.\n",
        "y_offset = np.zeros(len(columns))\n",
        "\n",
        "# Plot bars and create text labels for the table\n",
        "cell_text = []\n",
        "for row in range(n_rows):\n",
        "    plt.bar(index, data[row], bar_width, bottom=y_offset, color=colors[row])\n",
        "    y_offset = y_offset + data[row]\n",
        "    cell_text.append(['%1.1f' % (x / 1000.0) for x in y_offset])\n",
        "# Reverse colors and text labels to display the last value at the top.\n",
        "colors = colors[::-1]\n",
        "cell_text.reverse()\n",
        "\n",
        "# Add a table at the bottom of the axes\n",
        "#the_table = plt.table(cellText=cell_text,\n",
        "#                      rowLabels=rows,\n",
        "#                      rowColours=colors,\n",
        "#                      colLabels=columns,\n",
        "#                      loc='bottom')\n",
        "\n",
        "# Adjust layout to make room for the table:\n",
        "plt.subplots_adjust(left=0.2, bottom=0.2)\n",
        "\n",
        "plt.ylabel(\"Loss in ${0}'s\".format(value_increment))\n",
        "plt.yticks(values * value_increment, ['%d' % val for val in values])\n",
        "plt.xticks(index , ['a','b','c','d','e'])\n",
        "#plt.xlabel(\"A\", 'b','c','d','e','f','g','h','i','j','k''l')\n",
        "plt.title('Loss by Disaster')\n",
        "\n",
        "plt.show()"
      ]
    },
    {
      "cell_type": "code",
      "execution_count": 7,
      "metadata": {},
      "outputs": [
        {
          "data": {
            "text/plain": [
              "array([   0,  500, 1000, 1500, 2000])"
            ]
          },
          "execution_count": 7,
          "metadata": {},
          "output_type": "execute_result"
        }
      ],
      "source": [
        "values = np.arange(0, 2500, 500)\n",
        "values"
      ]
    }
  ],
  "metadata": {
    "kernelspec": {
      "display_name": "sys_bio",
      "language": "python",
      "name": "python3"
    },
    "language_info": {
      "codemirror_mode": {
        "name": "ipython",
        "version": 3
      },
      "file_extension": ".py",
      "mimetype": "text/x-python",
      "name": "python",
      "nbconvert_exporter": "python",
      "pygments_lexer": "ipython3",
      "version": "3.10.9"
    },
    "vscode": {
      "interpreter": {
        "hash": "e46f96ec14132dfb952ca2d7fe90580e6a9f99d52bff85b68a825927154222d8"
      }
    }
  },
  "nbformat": 4,
  "nbformat_minor": 0
}
