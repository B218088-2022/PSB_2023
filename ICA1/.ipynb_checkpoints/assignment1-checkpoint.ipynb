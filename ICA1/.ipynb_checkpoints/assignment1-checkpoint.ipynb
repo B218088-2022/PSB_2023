{
 "cells": [
  {
   "cell_type": "markdown",
   "metadata": {},
   "source": [
    "##### Probability\n",
    "The probability of a particular outcome of an event can be estimated by the **ratio of the number of times the outcome occurs to the total number of events**.\n",
    "\n",
    "The two files dna1.npy and dna2.npy contain DNA sequences. Load the files using, for example,\n",
    "\n",
    "   `dna1= str(np.load('dna1.npy'))`\n",
    "\n",
    "Any `.npy` file must always **contain an array**, and we use str here to ***convert the array into a string***, which is the more natural object for a DNA sequence."
   ]
  },
  {
   "cell_type": "code",
   "execution_count": 1,
   "metadata": {},
   "outputs": [],
   "source": [
    "import numpy as np\n",
    "import matplotlib.pyplot as plt\n",
    "%matplotlib inline"
   ]
  },
  {
   "cell_type": "markdown",
   "metadata": {},
   "source": [
    "**Question 1.1:**\n",
    "We would like to estimate the probability of each nucleotide in each DNA sequence.\n",
    "\n",
    "Write some code that uses a for loop to systematically go through a sequence, extracts a segment (a slice in Python jargon) of the sequence (here the segment is just one letter, but we will consider longer segments later), and then checks if, say, \"A\" is in the segment. By recording the number of successful checks, you can count the total number of \"A\" nucleotides and so estimate the probability of a nucleotide in the sequence being an \"A\" nucleotide.\n",
    "\n",
    "Check your result using the count method available for all strings.\n",
    "\n",
    "Repeat this estimation of the probability for the other nucleotides and for both DNA sequences. Print the results. [5]"
   ]
  },
  {
   "cell_type": "code",
   "execution_count": 2,
   "metadata": {},
   "outputs": [
    {
     "name": "stdout",
     "output_type": "stream",
     "text": [
      "the number of \"A\" nucleotides is 2465, the probability of being \"A\" is 0.308125\n",
      "the number of \"T\" nucleotides is 2394, the probability of being \"T\" is 0.29925\n",
      "the number of \"C\" nucleotides is 1789, the probability of being \"C\" is 0.223625\n",
      "the number of \"G\" nucleotides is 1352, the probability of being \"G\" is 0.169\n",
      "the number of other nucleotides is 0, the probability of being other nucleotides is 0.0\n"
     ]
    }
   ],
   "source": [
    "#Question 1.1\n",
    "dna1 = str(np.load('dna1.npy'))\n",
    "#len(dna1)\n",
    "countA, countT, countC, countG, countN = 0,0,0,0,0\n",
    "for i in dna1:\n",
    "    if i == \"A\":\n",
    "        countA += 1\n",
    "    elif i == \"T\":\n",
    "        countT += 1\n",
    "    elif i == \"C\":\n",
    "        countC += 1\n",
    "    elif i == \"G\":\n",
    "        countG += 1\n",
    "    else:\n",
    "        countN += 1\n",
    "print(f\"the number of \\\"A\\\" nucleotides is {countA}, the probability of being \\\"A\\\" is {countA/len(dna1)}\")\n",
    "print(f\"the number of \\\"T\\\" nucleotides is {countT}, the probability of being \\\"T\\\" is {countT/len(dna1)}\")\n",
    "print(f\"the number of \\\"C\\\" nucleotides is {countC}, the probability of being \\\"C\\\" is {countC/len(dna1)}\")\n",
    "print(f\"the number of \\\"G\\\" nucleotides is {countG}, the probability of being \\\"G\\\" is {countG/len(dna1)}\")\n",
    "print(f\"the number of other nucleotides is {countN}, the probability of being other nucleotides is {countN/len(dna1)}\")\n",
    "\n",
    "#print(f\"the number of \\\"A\\\" nucleotides is {dna1.count('A')}, the probability of being \\\"A\\\" is {dna1.count('A')/len(dna1)}\")\n",
    "#print(f\"the number of \\\"T\\\" nucleotides is {dna1.count('T')}, the probability of being \\\"T\\\" is {dna1.count('T')/len(dna1)}\")\n",
    "#print(f\"the number of \\\"C\\\" nucleotides is {dna1.count('C')}, the probability of being \\\"C\\\" is {dna1.count('C')/len(dna1)}\")\n",
    "#print(f\"the number of \\\"G\\\" nucleotides is {dna1.count('G')}, the probability of being \\\"G\\\" is {dna1.count('G')/len(dna1)}\")\n"
   ]
  },
  {
   "cell_type": "markdown",
   "metadata": {},
   "source": [
    "**Question 1.2**: One of the sequences is from the yeast genome and one is ***synthetic and generated assuming each letter in the sequence is independent of the previous letters***. Adapt your code to extract segments of four letters and calculate the probability of finding \"TTTT\" in each sequence. Note that \"TTTTT\" has two counts of \"TTTT\". Refreshing the meaning of independence in probability theory and, considering the probability of occurrence of \"TTTT\", which sequence is real and which synthetic? Explain your reasoning. [6]"
   ]
  },
  {
   "cell_type": "code",
   "execution_count": 3,
   "metadata": {},
   "outputs": [
    {
     "name": "stdout",
     "output_type": "stream",
     "text": [
      "79 222\n"
     ]
    }
   ],
   "source": [
    "dna1 = str(np.load('dna1.npy'))\n",
    "dna2 = str(np.load('dna2.npy'))\n",
    "# print(len(dna1), len(dna2))\n",
    "count1, count2 = 0,0\n",
    "for i in np.arange(0, len(dna1)-4):\n",
    "    if dna1[i:i+4] == \"TTTT\":\n",
    "        count1 += 1\n",
    "\n",
    "for j in np.arange(0, len(dna2)-4):\n",
    "    if dna2[j:j+4] == \"TTTT\":\n",
    "        count2 += 1   \n",
    "\n",
    "print(count1, count2)"
   ]
  },
  {
   "cell_type": "markdown",
   "metadata": {},
   "source": [
    "the probability of occurrence of \"TTTT\" is $0.25^4 = 0.00390625$, which times the length of the sequence, equals to $0.00390625 \\times 8000 = 31.25$"
   ]
  },
  {
   "cell_type": "markdown",
   "metadata": {},
   "source": [
    "### Entropy\n",
    "The entropy of a random variable is a measure of the uncertainty of the random variable. The entropy tells us, in some sense, the \"width\" of the probability distribution of the random variable. For a random variable, $X$, with probability distribution $P(X)$, the entropy is defined as\n",
    "\n",
    "\n",
    "$H(x) = -\\displaystyle \\sum^{}_{x}{P(X = x)\\log_2 (P(X = x))}$\n",
    "\n",
    "\n",
    "where the logarithm is to the base 2 and the entropy is then said to be measured in bits. The sum is over all values of X. For example, if X can take four different possibilities, such as \"A\", \"C\", \"G\", and \"T\", then x runs from \"A\" to \"T\", and there are 4 terms in the sum: $P(X=A), P(X=C), P(X=G), \\ and \\ P(X=T)$. The entropy does not depend on the actual values taken by X but only on their probabilities.\n",
    "\n",
    "The log2 of 0 will cause errors in Python, but `xlog2(x)→0` as `x→0`. In your code, check for zeros in the probability distribution and do not include these elements in calculations of entropies."
   ]
  },
  {
   "cell_type": "markdown",
   "metadata": {},
   "source": [
    "Question 2.1: Write a script or a function in Python to calculate the entropy of a random variable given its probability distribution [2].\n"
   ]
  },
  {
   "cell_type": "code",
   "execution_count": 8,
   "metadata": {},
   "outputs": [],
   "source": [
    "import math\n",
    "def entropy(px):\n",
    "    Hpx = 0\n",
    "    for i in np.arange(0, len(px)):\n",
    "        Hpx += px[i] * np.log2(px[i])\n",
    "    return -Hpx"
   ]
  },
  {
   "cell_type": "code",
   "execution_count": 7,
   "metadata": {},
   "outputs": [
    {
     "name": "stdout",
     "output_type": "stream",
     "text": [
      "1\n",
      "2\n",
      "3\n",
      "4\n",
      "5\n"
     ]
    }
   ],
   "source": [
    "list = [1,2,3,4,5]\n",
    "for i in np.arange(0, len(list)):\n",
    "    print(list[i])"
   ]
  },
  {
   "cell_type": "markdown",
   "metadata": {},
   "source": [
    "Question 2.2: In the file annualprobs.npy, six probability distributions are defined as an array of arrays. Load these distributions using\n",
    "\n",
    "  `d= np.load('annualprobs.npy')`\n",
    "\n",
    "and type\n",
    "\n",
    "  `d.shape`\n",
    "\n",
    "to see how the data is structured.\n",
    "\n",
    "Each distribution represents the probability of an event occurring for each month of the year (and so has 12 numbers). The first element of the array, d[0], gives the first probability distribution of the event occurring, the second element of the array, d[1] gives the second probability distribution of the event, and so on.\n",
    "\n",
    "Use plt.bar to plot these distributions, label the x-axis with the first letters of the months of the year, and title each figure with the number of the distribution and its entropy in bits. [2]\n",
    "\n",
    "From what you have learned from your results, which type of probability distributions would you expect to have the highest entropy and which distributions to have the lowest entropy and why? [5]"
   ]
  },
  {
   "cell_type": "code",
   "execution_count": 40,
   "metadata": {},
   "outputs": [
    {
     "name": "stdout",
     "output_type": "stream",
     "text": [
      "[[0.06010111 0.04130492 0.08731046 0.0765835  0.09525157 0.0562892\n",
      "  0.08488968 0.08995465 0.07090427 0.14661349 0.09062795 0.10016919]\n",
      " [0.08705501 0.08180415 0.08610777 0.08791366 0.07949633 0.08401198\n",
      "  0.07743163 0.08358469 0.07703957 0.07768619 0.08817854 0.08969049]\n",
      " [0.         0.         0.         0.         0.         0.6168885\n",
      "  0.3831115  0.         0.         0.         0.         0.        ]\n",
      " [0.         0.         0.         0.         0.31543519 0.31649161\n",
      "  0.23879741 0.12927579 0.         0.         0.         0.        ]\n",
      " [0.         0.         0.         0.         0.         0.\n",
      "  1.         0.         0.         0.         0.         0.        ]\n",
      " [0.         0.         0.08473688 0.13819307 0.16125715 0.08431425\n",
      "  0.2320818  0.08162663 0.21779022 0.         0.         0.        ]]\n"
     ]
    }
   ],
   "source": [
    "d = np.load('annualprobs.npy')\n",
    "print(d)"
   ]
  },
  {
   "cell_type": "code",
   "execution_count": 38,
   "metadata": {},
   "outputs": [
    {
     "data": {
      "text/plain": [
       "array([0.       , 0.       , 0.       , 0.       , 0.       , 0.6168885,\n",
       "       0.3831115, 0.       , 0.       , 0.       , 0.       , 0.       ])"
      ]
     },
     "execution_count": 38,
     "metadata": {},
     "output_type": "execute_result"
    }
   ],
   "source": [
    "d[2]"
   ]
  },
  {
   "cell_type": "code",
   "execution_count": 56,
   "metadata": {},
   "outputs": [
    {
     "data": {
      "image/png": "[encoded data removed]",
      "text/plain": [
       "<Figure size 640x480 with 6 Axes>"
      ]
     },
     "metadata": {},
     "output_type": "display_data"
    }
   ],
   "source": [
    "plt.figure()\n",
    "\n",
    "for i in np.arange(d.shape[0]) + 1:\n",
    "    x = np.arange(d.shape[1])\n",
    "    plt.subplot(2, 3, i)\n",
    "    plt.bar(np.arange(d.shape[1]) , d[i-1])\n",
    "    plt.xticks(np.arange(d.shape[1]), ['J', 'F', 'M', 'A', 'M', 'J', 'J', 'A', 'S', 'O', 'N', 'D'])\n",
    "    plt.title(f\"subplot {i}\")\n",
    "    \n",
    "            \n",
    "plt.suptitle(\"Probability of an event occurring for each month\")\n",
    "plt.show()"
   ]
  },
  {
   "cell_type": "code",
   "execution_count": 53,
   "metadata": {},
   "outputs": [
    {
     "data": {
      "text/plain": [
       "array([ 0,  1,  2,  3,  4,  5,  6,  7,  8,  9, 10, 11])"
      ]
     },
     "execution_count": 53,
     "metadata": {},
     "output_type": "execute_result"
    }
   ],
   "source": [
    "x = np.arange(d.shape[1])\n",
    "x"
   ]
  },
  {
   "cell_type": "markdown",
   "metadata": {},
   "source": []
  },
  {
   "cell_type": "markdown",
   "metadata": {},
   "source": [
    "### Measuring the dependence between two random variables\n",
    "We can use entropies to measure the degree of statistical dependence between two random variables. Consider two random variables $X$ and $Y$. The conditional entropy $H(Y|X)$ measures the uncertainty in $Y$ given that we know $X$ (the | symbol is read as \"given that\"). If knowing $X$ tells us nothing about the value of $Y$, then $H(Y|X)=H(Y)$ — the uncertainty in $Y$ is the same as if we did not know $X$; if knowing $X$ tells us everything about $Y$, for example if $Y=2X$ then knowing $X$ allows us to predict $Y$ with certainty, then $H(Y|X)=0$. Consequently, a measure of the degree of dependence between $X$ and $Y$ is:\n",
    "\n",
    "\n",
    "$H(Y)−H(Y|X)$\n",
    "\n",
    "\n",
    "which equals zero if knowing $X$ tells us nothing about $Y$ and equals $H(Y)$ if knowing $X$ means that we know $Y$.\n",
    "\n",
    "This quantity is often referred to as the mutual information between X and Y: it measures how much the uncertainty in Y has decreased if we know X. To quantify the degree of dependence, it is useful to have a measure that has a minimum of zero and a maximum of one, and we therefore often use\n",
    "\n",
    "$\\frac{H(Y)−H(Y|X)}{H(Y)}$\n",
    "\n",
    "as a normalized mutual information.\n",
    "\n",
    "Four datasets are given as an array of arrays in `XandY.npy`. Each dataset consists of measurements of an $X$ variable and simultaneous measurements of a $Y$ variable. The first element of the array, `d[0]` if you use `d= load('XandY.npy')`, gives the measured values of $X$ and the second element, `d[1]`, gives the corresponding measured values of $Y$ for the first dataset; the third, `d[2]`, and fourth, `d[3]`, elements give the values of $X$ and $Y$ for the second dataset, and so on."
   ]
  },
  {
   "cell_type": "code",
   "execution_count": null,
   "metadata": {},
   "outputs": [],
   "source": []
  },
  {
   "cell_type": "markdown",
   "metadata": {},
   "source": [
    "$x/y=z$"
   ]
  },
  {
   "cell_type": "markdown",
   "metadata": {},
   "source": [
    "Question 3.1: Write a general function to calculate the correlation coefficient between two arrays $X$ and $Y$. Remember that the correlation coefficient is defined as\n",
    "\n",
    "\n",
    "$[\\displaystyle \\sum^{}_{i}{(x_i - E[x])(y_i - E[y])}]\\ / \\ [\\displaystyle \\sum^{}_{i}{(x_i -E[x])^2}\\displaystyle \\sum^{}_{i}{(y_i -E[y])^2}]^\\frac{1}{2}$\n",
    "\n",
    "\n",
    "where $E[x]$ is the mean of $X$ and $E[y]$ is the mean of $Y$. Here xi is the i’th element of the array $X$ and i runs from 0 to the total number of elements in $X$. The sum therefore runs over each element in $X$ and the corresponding element in $Y$. [2]"
   ]
  },
  {
   "cell_type": "code",
   "execution_count": null,
   "metadata": {},
   "outputs": [],
   "source": []
  },
  {
   "cell_type": "markdown",
   "metadata": {},
   "source": [
    "Question 3.2: Using `np.histogram2d` and `plt.imshow`, plot a two dimensional histogram of one of the datasets with a 10x10 grid to bin the data. You should use `np.rot90` to rotate the output of `np.histogram2d` to appropriately display the data (compare with a scatter plot). Setting `aspect='auto'` in `plt.imshow` creates a square-shaped plot. [3]"
   ]
  },
  {
   "cell_type": "code",
   "execution_count": null,
   "metadata": {},
   "outputs": [],
   "source": []
  },
  {
   "cell_type": "markdown",
   "metadata": {},
   "source": [
    "Question 3.3: Write a function to calculate the mutual information between two random variables $X$ and $Y$ normalized by the entropy of $Y$. You will need to calculate $H(X)$, $H(Y)$ and $H(Y|X)$. To do so you will need to estimate $P(X,Y)$, and then find $P(X)$ and $P(Y)$.\n",
    "\n",
    "The conditional entropy can be shown to be\n",
    "\n",
    "$ H(Y | X) = \\displaystyle \\sum^{}_{x,\\ y}{P(X\\ =x, Y\\ =y)\\log_2 [\\frac {P(X\\ = x)}{P(X\\ = x, Y\\ = y)}]}$\n",
    "\n",
    "where the sum $x$ is over all values of $X$ and the sum $y$ is over all values of $Y$.\n",
    "\n",
    "We must therefore estimate $P(X=x,Y=y)$ if we wish to calculate the mutual information and will use `np.histogram2d` to do so. The `np.histogram2d` function bins data into a grid of bins. The height of the histogram at a particular grid point gives the number of counts in that bin and is approximately proportional to the probability that X and Y have the values associated with that bin. If a new data point was measured, then it is more likely to have the X and Y values of bins with high numbers of counts rather than the X and Y values of bins with low numbers of counts. By normalizing the histogram appropriately so that each bin represents the proportion of events that occurred in that bin, we can interprete the normalized value of a particular point on the grid as the probability that X and Y will have values that are in the bin associated with that point when we make a new measurement.\n",
    "\n",
    "Use part of the output of `np.histogram2d` to estimate $P(X=x_i,Y=y_j)$, which here is the probability that X lies in the i'th bin on the x-axis and Y lies in the j'th bin on the y-axis.\n",
    "\n",
    "Given your estimate of $P(X=x_i,Y=y_j)$, you can find P(X) (and P(Y) similarly). By definition\n",
    "\n",
    "$ P(X\\ = x_i) = \\displaystyle \\sum^{}_{j}{P(X\\ = x_i, y\\ = y_j)}$\n",
    "\n",
    "\n",
    "i.e. the probability of X lying in the i'th bin is equal to the probability that X lies in the i'th bin and Y lies in the zeroth bin plus the probability that X lies in the i'th bin and Y lies in the first bin plus the probability that X lies in the i'th bin and Y lies in the second bin, etc. Note, however that\n",
    "\n",
    "  `nxy, xedges, yedges= np.histogram2d(x, y, (n,m))`\n",
    "\n",
    "divides the x-axis into n bins and the y-axis into m bins, but that nxy is returned as a `nxm` matrix so that the x changes down the columns and y changes across the rows. The second argument of np.sum allows addition over either the columns or rows of a matrix.\n",
    "\n",
    "Finally, remember to check that you are not including any zero probabilities when calculating entropies.\n",
    "\n",
    "For the first data set show that the correlation coefficient is approximately 0.52 and that the normalized mutual information is approximately 0.09. [10]\n"
   ]
  },
  {
   "cell_type": "markdown",
   "metadata": {},
   "source": [
    "\n",
    "Question 3.4: Plot each dataset as a scatterplot and title the figure with both the value of the correlation coefficient and the value of the normalized mutual information. Considering all datasets, explain why both measures of dependence change with each dataset in the way you observe. [7]"
   ]
  }
 ],
 "metadata": {
  "kernelspec": {
   "display_name": "Python 3 (ipykernel)",
   "language": "python",
   "name": "python3"
  },
  "language_info": {
   "codemirror_mode": {
    "name": "ipython",
    "version": 3
   },
   "file_extension": ".py",
   "mimetype": "text/x-python",
   "name": "python",
   "nbconvert_exporter": "python",
   "pygments_lexer": "ipython3",
   "version": "3.10.9"
  },
  "vscode": {
   "interpreter": {
    "hash": "e46f96ec14132dfb952ca2d7fe90580e6a9f99d52bff85b68a825927154222d8"
   }
  }
 },
 "nbformat": 4,
 "nbformat_minor": 2
}
